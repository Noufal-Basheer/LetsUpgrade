{
  "nbformat": 4,
  "nbformat_minor": 0,
  "metadata": {
    "colab": {
      "name": "MiniProject-To generate 6 character OTP.ipynb",
      "provenance": [],
      "authorship_tag": "ABX9TyP5kJxXExZ/2DMhuyq/KG/s",
      "include_colab_link": true
    },
    "kernelspec": {
      "name": "python3",
      "display_name": "Python 3"
    },
    "language_info": {
      "name": "python"
    }
  },
  "cells": [
    {
      "cell_type": "markdown",
      "metadata": {
        "id": "view-in-github",
        "colab_type": "text"
      },
      "source": [
        "<a href=\"https://colab.research.google.com/github/Noufal-Basheer/LetsUpgrade/blob/main/MiniProject_To_generate_6_character_OTP.ipynb\" target=\"_parent\"><img src=\"https://colab.research.google.com/assets/colab-badge.svg\" alt=\"Open In Colab\"/></a>"
      ]
    },
    {
      "cell_type": "code",
      "metadata": {
        "colab": {
          "base_uri": "https://localhost:8080/"
        },
        "id": "ql53f2GnGLcE",
        "outputId": "fed49de6-82c6-42c8-9e23-ffb78c95ee00"
      },
      "source": [
        "#Mini project AIM: To generate a 6 character OTP\n",
        "\n",
        "import string as s\n",
        "import random as r\n",
        "\n",
        "char_pool = list(s.ascii_letters + s.digits)\n",
        "otp =''\n",
        "\n",
        "for i in range(6):\n",
        "  otp+= r.choice(char_pool)\n",
        "\n",
        "print(otp)\n"
      ],
      "execution_count": 1,
      "outputs": [
        {
          "output_type": "stream",
          "text": [
            "bssGGA\n"
          ],
          "name": "stdout"
        }
      ]
    },
    {
      "cell_type": "code",
      "metadata": {
        "id": "oeyeZAUFGYLG"
      },
      "source": [
        ""
      ],
      "execution_count": null,
      "outputs": []
    }
  ]
}