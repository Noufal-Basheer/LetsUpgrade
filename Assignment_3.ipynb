{
  "nbformat": 4,
  "nbformat_minor": 0,
  "metadata": {
    "colab": {
      "name": "Assignment 3.ipynb",
      "provenance": [],
      "authorship_tag": "ABX9TyOMHjbFH83xjdJ2IgjuPsY9",
      "include_colab_link": true
    },
    "kernelspec": {
      "name": "python3",
      "display_name": "Python 3"
    },
    "language_info": {
      "name": "python"
    }
  },
  "cells": [
    {
      "cell_type": "markdown",
      "metadata": {
        "id": "view-in-github",
        "colab_type": "text"
      },
      "source": [
        "<a href=\"https://colab.research.google.com/github/Noufal-Basheer/LetsUpgrade/blob/main/Assignment_3.ipynb\" target=\"_parent\"><img src=\"https://colab.research.google.com/assets/colab-badge.svg\" alt=\"Open In Colab\"/></a>"
      ]
    },
    {
      "cell_type": "code",
      "metadata": {
        "colab": {
          "base_uri": "https://localhost:8080/"
        },
        "id": "AXez-DxwkQ4w",
        "outputId": "5c885d8f-627f-4308-c75c-80921dba3580"
      },
      "source": [
        "def mod_division(fun):                     #Decorator\n",
        "  def inner(a,b):\n",
        "    if(a<b):\n",
        "      a,b=b,a\n",
        "    return fun(a,b)\n",
        "\n",
        "  return inner      \n",
        "\n",
        "@mod_division                             #Modern method to implement decorator\n",
        "def division(a,b): \n",
        "  return a/b\n",
        "\n",
        "print(division(5,2))                      \n",
        "print(division(2,5))                        "
      ],
      "execution_count": 1,
      "outputs": [
        {
          "output_type": "stream",
          "text": [
            "2.5\n",
            "2.5\n"
          ],
          "name": "stdout"
        }
      ]
    },
    {
      "cell_type": "code",
      "metadata": {
        "id": "uqNfuKlsnHCD"
      },
      "source": [
        ""
      ],
      "execution_count": null,
      "outputs": []
    }
  ]
}