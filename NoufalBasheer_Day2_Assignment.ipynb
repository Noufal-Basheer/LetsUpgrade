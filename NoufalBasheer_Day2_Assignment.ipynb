{
  "nbformat": 4,
  "nbformat_minor": 0,
  "metadata": {
    "colab": {
      "name": "NoufalBasheer-Day2-Assignment.ipynb",
      "provenance": [],
      "authorship_tag": "ABX9TyPBSnNlIDo0GVniM9LNbRAu",
      "include_colab_link": true
    },
    "kernelspec": {
      "name": "python3",
      "display_name": "Python 3"
    },
    "language_info": {
      "name": "python"
    }
  },
  "cells": [
    {
      "cell_type": "markdown",
      "metadata": {
        "id": "view-in-github",
        "colab_type": "text"
      },
      "source": [
        "<a href=\"https://colab.research.google.com/github/Noufal-Basheer/LetsUpgrade/blob/main/NoufalBasheer_Day2_Assignment.ipynb\" target=\"_parent\"><img src=\"https://colab.research.google.com/assets/colab-badge.svg\" alt=\"Open In Colab\"/></a>"
      ]
    },
    {
      "cell_type": "code",
      "metadata": {
        "colab": {
          "base_uri": "https://localhost:8080/"
        },
        "id": "2BQq2br1d0ot",
        "outputId": "b751630a-ab07-461b-ab4b-aec6bc5c5b66"
      },
      "source": [
        "#Assignment - Day 2 \n",
        "# Take a string input and print the number of occurrences of each character.\n",
        "\n",
        "string1=input('Enter string: ')\n",
        "s= set(string1)\n",
        "for i in s : \n",
        "  print(f'{i}: ' ,string1.count(i))\n"
      ],
      "execution_count": 2,
      "outputs": [
        {
          "output_type": "stream",
          "text": [
            "Enter string: hello, this is python\n",
            "o:  2\n",
            "s:  2\n",
            "t:  2\n",
            "i:  2\n",
            "e:  1\n",
            "p:  1\n",
            ",:  1\n",
            "l:  2\n",
            "h:  3\n",
            " :  3\n",
            "y:  1\n",
            "n:  1\n"
          ],
          "name": "stdout"
        }
      ]
    },
    {
      "cell_type": "code",
      "metadata": {
        "id": "ZNkqEs3veG-5"
      },
      "source": [
        ""
      ],
      "execution_count": null,
      "outputs": []
    }
  ]
}