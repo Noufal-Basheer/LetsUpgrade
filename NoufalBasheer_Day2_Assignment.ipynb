{
  "nbformat": 4,
  "nbformat_minor": 0,
  "metadata": {
    "colab": {
      "name": "NoufalBasheer-Day2-Assignment.ipynb",
      "provenance": [],
      "authorship_tag": "ABX9TyPBSnNlIDo0GVniM9LNbRAu",
      "include_colab_link": true
    },
    "kernelspec": {
      "name": "python3",
      "display_name": "Python 3"
    },
    "language_info": {
      "name": "python"
    }
  },
  "cells": [
    {
      "cell_type": "markdown",
      "metadata": {
        "id": "view-in-github",
        "colab_type": "text"
      },
      "source": [
        "<a href=\"https://colab.research.google.com/github/Noufal-Basheer/LetsUpgrade/blob/main/NoufalBasheer_Day2_Assignment.ipynb\" target=\"_parent\"><img src=\"https://colab.research.google.com/assets/colab-badge.svg\" alt=\"Open In Colab\"/></a>"
      ]
    },
    {
      "cell_type": "code",
      "metadata": {
        "colab": {
          "base_uri": "https://localhost:8080/"
        },
        "id": "2BQq2br1d0ot",
        "outputId": "6c5b8ad3-ca24-4396-e9c9-37c31796c77d"
      },
      "source": [
        "#Assignment - Day 2 \n",
        "# Take a string input and print the number of occurrences of each character.\n",
        "\n",
        "string1=input('Enter string: ')\n",
        "s= set(string1)\n",
        "for i in s : \n",
        "  print(f'{i}: ' ,string1.count(i))\n"
      ],
      "execution_count": 1,
      "outputs": [
        {
          "output_type": "stream",
          "text": [
            "Enter string: Hello, My name is Noufal Basheer\n",
            "n:  1\n",
            "m:  1\n",
            "H:  1\n",
            "B:  1\n",
            "e:  4\n",
            "M:  1\n",
            "l:  3\n",
            "y:  1\n",
            "f:  1\n",
            "i:  1\n",
            ",:  1\n",
            "r:  1\n",
            "a:  3\n",
            "h:  1\n",
            "o:  2\n",
            " :  5\n",
            "N:  1\n",
            "s:  2\n",
            "u:  1\n"
          ],
          "name": "stdout"
        }
      ]
    },
    {
      "cell_type": "code",
      "metadata": {
        "id": "ZNkqEs3veG-5"
      },
      "source": [
        ""
      ],
      "execution_count": null,
      "outputs": []
    }
  ]
}