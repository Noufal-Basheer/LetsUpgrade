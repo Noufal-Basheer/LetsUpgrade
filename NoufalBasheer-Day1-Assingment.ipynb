{
  "nbformat": 4,
  "nbformat_minor": 0,
  "metadata": {
    "colab": {
      "name": "Untitled2.ipynb",
      "provenance": [],
      "authorship_tag": "ABX9TyP/nklTPQlvYPshZfOB4qHy",
      "include_colab_link": true
    },
    "kernelspec": {
      "name": "python3",
      "display_name": "Python 3"
    },
    "language_info": {
      "name": "python"
    }
  },
  "cells": [
    {
      "cell_type": "markdown",
      "metadata": {
        "id": "view-in-github",
        "colab_type": "text"
      },
      "source": [
        "<a href=\"https://colab.research.google.com/github/Noufal-Basheer/LetsUpgrade/blob/main/NoufalBasheer-Day1-Assingment.ipynb\" target=\"_parent\"><img src=\"https://colab.research.google.com/assets/colab-badge.svg\" alt=\"Open In Colab\"/></a>"
      ]
    },
    {
      "cell_type": "code",
      "metadata": {
        "colab": {
          "base_uri": "https://localhost:8080/"
        },
        "id": "1-iTyke7TB7c",
        "outputId": "67485530-87cd-4f21-de2e-2309e63e5993"
      },
      "source": [
        "#ASSIGNMENT 1\n",
        "\n",
        "x=int(input('Enter value of x: '))\n",
        "y=int(input('Enter value of y: '))\n",
        "\n",
        "print('Value of x^y is given by', x**y)"
      ],
      "execution_count": 2,
      "outputs": [
        {
          "output_type": "stream",
          "text": [
            "Enter value of x: 2\n",
            "Enter value of y: 10\n",
            "Value of x^y is given by 1024\n"
          ],
          "name": "stdout"
        }
      ]
    },
    {
      "cell_type": "code",
      "metadata": {
        "id": "u0aBL89MTIw0"
      },
      "source": [
        ""
      ],
      "execution_count": null,
      "outputs": []
    }
  ]
}